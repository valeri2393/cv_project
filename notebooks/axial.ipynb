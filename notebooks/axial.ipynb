{
  "nbformat": 4,
  "nbformat_minor": 0,
  "metadata": {
    "colab": {
      "provenance": []
    },
    "kernelspec": {
      "name": "python3",
      "display_name": "Python 3"
    },
    "language_info": {
      "name": "python"
    }
  },
  "cells": [
    {
      "cell_type": "code",
      "execution_count": 4,
      "metadata": {
        "colab": {
          "base_uri": "https://localhost:8080/"
        },
        "id": "wTXuy3Dkqbss",
        "outputId": "172dbf0c-ba2f-43ee-b41e-0be5c59e2ce2"
      },
      "outputs": [
        {
          "output_type": "stream",
          "name": "stdout",
          "text": [
            "Drive already mounted at /content/drive; to attempt to forcibly remount, call drive.mount(\"/content/drive\", force_remount=True).\n"
          ]
        }
      ],
      "source": [
        "from google.colab import drive\n",
        "drive.mount('/content/drive')\n"
      ]
    },
    {
      "cell_type": "code",
      "source": [
        "!git clone https://github.com/ultralytics/yolov5  # клонируем репозиторий\n",
        "%cd yolov5\n",
        "%pip install -qr requirements.txt  # устанавливаем зависимости\n"
      ],
      "metadata": {
        "colab": {
          "base_uri": "https://localhost:8080/"
        },
        "id": "qSQX0ou6qdtT",
        "outputId": "47ee6d1a-7baa-491c-815d-b1f0274809ff"
      },
      "execution_count": 5,
      "outputs": [
        {
          "output_type": "stream",
          "name": "stdout",
          "text": [
            "Cloning into 'yolov5'...\n",
            "remote: Enumerating objects: 16680, done.\u001b[K\n",
            "remote: Counting objects: 100% (221/221), done.\u001b[K\n",
            "remote: Compressing objects: 100% (158/158), done.\u001b[K\n",
            "remote: Total 16680 (delta 101), reused 129 (delta 63), pack-reused 16459\u001b[K\n",
            "Receiving objects: 100% (16680/16680), 15.39 MiB | 6.58 MiB/s, done.\n",
            "Resolving deltas: 100% (11404/11404), done.\n",
            "/content/yolov5/yolov5\n"
          ]
        }
      ]
    },
    {
      "cell_type": "code",
      "source": [
        "# Укажите путь к вашему датасету в Google Drive\n",
        "dataset_path = '/content/drive/My Drive/content/drive/MyDrive/axial_t1wce_2_class'\n"
      ],
      "metadata": {
        "id": "PkVGflK_qom0"
      },
      "execution_count": 6,
      "outputs": []
    },
    {
      "cell_type": "code",
      "source": [
        "# Проверка структуры данных\n",
        "!ls /content/drive/MyDrive/axial_t1wce_2_class\n",
        "!ls /content/drive/MyDrive/axial_t1wce_2_class/images/train\n",
        "!ls /content/drive/MyDrive/axial_t1wce_2_class/images/test\n",
        "!ls /content/drive/MyDrive/axial_t1wce_2_class/labels/train\n",
        "!ls /content/drive/MyDrive/axial_t1wce_2_class/labels/test"
      ],
      "metadata": {
        "colab": {
          "base_uri": "https://localhost:8080/"
        },
        "id": "cKiss47cr81x",
        "outputId": "dc6afd4a-30bb-4f97-e965-cc7170a1032e"
      },
      "execution_count": 7,
      "outputs": [
        {
          "output_type": "stream",
          "name": "stdout",
          "text": [
            "axial_t1wce_2_class.yaml  data.yaml  images  labels\n",
            "00095_170.jpg  00123_13.jpg   00169_112.jpg  00263_137.jpg  00304_113.jpg  00334_101.jpg\n",
            "00095_176.jpg  00123_14.jpg   00169_119.jpg  00270_11.jpg   00304_119.jpg  00334_108.jpg\n",
            "00095_188.jpg  00123_15.jpg   00169_127.jpg  00270_12.jpg   00304_98.jpg   00334_114.jpg\n",
            "00095_200.jpg  00123_16.jpg   00169_134.jpg  00270_13.jpg   00305_105.jpg  00334_120.jpg\n",
            "00095_212.jpg  00124_10.jpg   00169_141.jpg  00271_106.jpg  00305_107.jpg  00334_121.jpg\n",
            "00095_224.jpg  00124_11.jpg   00169_142.jpg  00271_111.jpg  00305_113.jpg  00334_91.jpg\n",
            "00095_226.jpg  00124_12.jpg   00169_149.jpg  00271_116.jpg  00305_116.jpg  00334_95.jpg\n",
            "00095_236.jpg  00124_6.jpg    00172_102.jpg  00271_117.jpg  00305_97.jpg   00338_15.jpg\n",
            "00097_65.jpg   00124_7.jpg    00172_108.jpg  00271_122.jpg  00305_98.jpg   00340_119.jpg\n",
            "00097_68.jpg   00124_8.jpg    00172_114.jpg  00271_124.jpg  00306_102.jpg  00340_121.jpg\n",
            "00097_70.jpg   00124_9.jpg    00172_92.jpg   00271_128.jpg  00306_109.jpg  00340_126.jpg\n",
            "00097_72.jpg   00130_100.jpg  00172_96.jpg   00271_130.jpg  00306_115.jpg  00340_128.jpg\n",
            "00097_74.jpg   00130_107.jpg  00176_104.jpg  00271_134.jpg  00306_92.jpg   00340_132.jpg\n",
            "00097_76.jpg   00130_112.jpg  00176_89.jpg   00271_145.jpg  00306_96.jpg   00340_138.jpg\n",
            "00097_77.jpg   00130_114.jpg  00176_92.jpg   00273_103.jpg  00311_105.jpg  00350_126.jpg\n",
            "00097_79.jpg   00130_119.jpg  00176_98.jpg   00273_109.jpg  00311_111.jpg  00350_128.jpg\n",
            "00097_80.jpg   00130_78.jpg   00183_80.jpg   00273_86.jpg   00311_117.jpg  00350_132.jpg\n",
            "00097_81.jpg   00130_81.jpg   00183_86.jpg   00273_90.jpg   00311_118.jpg  00350_135.jpg\n",
            "00097_83.jpg   00130_88.jpg   00240_134.jpg  00273_96.jpg   00311_123.jpg  00350_139.jpg\n",
            "00099_129.jpg  00130_94.jpg   00240_138.jpg  00281_104.jpg  00313_118.jpg  00350_145.jpg\n",
            "00099_130.jpg  00148_19.jpg   00240_144.jpg  00281_110.jpg  00313_119.jpg  00350_151.jpg\n",
            "00099_137.jpg  00148_20.jpg   00240_151.jpg  00281_116.jpg  00313_124.jpg  00350_157.jpg\n",
            "00099_139.jpg  00148_22.jpg   00240_157.jpg  00281_117.jpg  00313_126.jpg  00352_103.jpg\n",
            "00099_145.jpg  00148_24.jpg   00245_101.jpg  00281_122.jpg  00313_130.jpg  00352_93.jpg\n",
            "00099_149.jpg  00150_10.jpg   00246_103.jpg  00281_124.jpg  00313_133.jpg  00352_97.jpg\n",
            "00099_154.jpg  00150_11.jpg   00246_96.jpg   00281_128.jpg  00317_20.jpg   00359_103.jpg\n",
            "00104_14.jpg   00150_12.jpg   00250_104.jpg  00281_98.jpg   00317_21.jpg   00359_109.jpg\n",
            "00104_15.jpg   00150_8.jpg    00250_110.jpg  00282_83.jpg   00317_22.jpg   00359_115.jpg\n",
            "00104_16.jpg   00150_9.jpg    00250_115.jpg  00282_87.jpg   00317_23.jpg   00359_116.jpg\n",
            "00104_17.jpg   00151_10.jpg   00250_120.jpg  00282_93.jpg   00317_24.jpg   00359_121.jpg\n",
            "00104_18.jpg   00151_12.jpg   00250_121.jpg  00282_99.jpg   00317_25.jpg   00359_123.jpg\n",
            "00104_19.jpg   00151_13.jpg   00253_79.jpg   00284_149.jpg  00317_26.jpg   00359_97.jpg\n",
            "00111_110.jpg  00151_14.jpg   00253_85.jpg   00285_87.jpg   00317_27.jpg   00360_102.jpg\n",
            "00111_98.jpg   00151_15.jpg   00253_92.jpg   00285_93.jpg   00317_28.jpg   00360_108.jpg\n",
            "00112_10.jpg   00151_17.jpg   00254_79.jpg   00291_22.jpg   00322_108.jpg  00360_114.jpg\n",
            "00112_11.jpg   00158_102.jpg  00254_83.jpg   00291_23.jpg   00322_114.jpg  00360_115.jpg\n",
            "00112_12.jpg   00158_108.jpg  00254_89.jpg   00291_24.jpg   00322_115.jpg  00360_120.jpg\n",
            "00116_11.jpg   00158_114.jpg  00260_113.jpg  00294_20.jpg   00322_121.jpg  00360_122.jpg\n",
            "00116_12.jpg   00158_115.jpg  00260_115.jpg  00294_21.jpg   00322_122.jpg  00360_126.jpg\n",
            "00116_13.jpg   00158_86.jpg   00260_119.jpg  00294_22.jpg   00322_127.jpg  00360_129.jpg\n",
            "00116_14.jpg   00158_90.jpg   00260_121.jpg  00294_23.jpg   00322_130.jpg  00360_87.jpg\n",
            "00116_15.jpg   00158_96.jpg   00260_125.jpg  00296_118.jpg  00322_134.jpg  00360_90.jpg\n",
            "00116_16.jpg   00165_110.jpg  00260_130.jpg  00296_124.jpg  00322_140.jpg  00360_96.jpg\n",
            "00116_8.jpg    00165_111.jpg  00260_136.jpg  00296_125.jpg  00322_147.jpg  00364_107.jpg\n",
            "00116_9.jpg    00165_116.jpg  00260_142.jpg  00296_130.jpg  00322_153.jpg  00364_113.jpg\n",
            "00122_10.jpg   00165_118.jpg  00263_109.jpg  00296_132.jpg  00328_100.jpg  00364_119.jpg\n",
            "00122_11.jpg   00165_123.jpg  00263_116.jpg  00299_101.jpg  00328_90.jpg   00364_120.jpg\n",
            "00122_8.jpg    00165_125.jpg  00263_117.jpg  00299_91.jpg   00328_94.jpg   00364_125.jpg\n",
            "00122_9.jpg    00165_129.jpg  00263_123.jpg  00303_81.jpg   00329_87.jpg   00364_127.jpg\n",
            "00123_10.jpg   00165_135.jpg  00263_125.jpg  00303_85.jpg   00329_90.jpg   00406_98.jpg\n",
            "00123_11.jpg   00167_125.jpg  00263_130.jpg  00304_101.jpg  00332_141.jpg\n",
            "00123_12.jpg   00167_127.jpg  00263_133.jpg  00304_107.jpg  00332_147.jpg\n",
            "00018_101.jpg  00022_75.jpg   00045_118.jpg  00061_178.jpg  00081_89.jpg   00088_129.jpg\n",
            "00018_109.jpg  00022_77.jpg   00045_127.jpg  00064_158.jpg  00081_98.jpg   00088_136.jpg\n",
            "00018_111.jpg  00022_79.jpg   00045_136.jpg  00064_170.jpg  00084_123.jpg  00088_137.jpg\n",
            "00018_117.jpg  00022_81.jpg   00053_207.jpg  00064_209.jpg  00084_130.jpg  00088_143.jpg\n",
            "00018_121.jpg  00022_83.jpg   00053_221.jpg  00064_220.jpg  00084_137.jpg  00088_145.jpg\n",
            "00018_126.jpg  00022_85.jpg   00053_235.jpg  00072_66.jpg   00084_138.jpg  00088_150.jpg\n",
            "00018_134.jpg  00022_86.jpg   00053_237.jpg  00072_73.jpg   00084_145.jpg  00088_153.jpg\n",
            "00019_66.jpg   00022_87.jpg   00053_249.jpg  00072_76.jpg   00084_152.jpg  00090_157.jpg\n",
            "00019_75.jpg   00022_88.jpg   00053_253.jpg  00072_77.jpg   00084_156.jpg  00090_169.jpg\n",
            "00019_84.jpg   00044_101.jpg  00053_263.jpg  00072_80.jpg   00084_160.jpg  00090_181.jpg\n",
            "00019_85.jpg   00044_109.jpg  00053_269.jpg  00072_81.jpg   00088_108.jpg\n",
            "00021_53.jpg   00044_111.jpg  00053_277.jpg  00081_107.jpg  00088_115.jpg\n",
            "00022_73.jpg   00044_118.jpg  00061_172.jpg  00081_80.jpg   00088_122.jpg\n",
            "00095_170.txt  00123_11.txt   00165_129.txt  00263_116.txt  00296_130.txt  00322_140.txt\n",
            "00095_176.txt  00123_12.txt   00165_135.txt  00263_117.txt  00296_132.txt  00322_147.txt\n",
            "00095_188.txt  00123_13.txt   00167_125.txt  00263_123.txt  00299_101.txt  00322_153.txt\n",
            "00095_200.txt  00123_14.txt   00167_127.txt  00263_125.txt  00299_91.txt   00328_100.txt\n",
            "00095_212.txt  00123_15.txt   00169_112.txt  00263_130.txt  00303_81.txt   00328_90.txt\n",
            "00095_224.txt  00123_16.txt   00169_119.txt  00263_133.txt  00303_85.txt   00328_94.txt\n",
            "00095_226.txt  00124_10.txt   00169_127.txt  00263_137.txt  00304_101.txt  00329_87.txt\n",
            "00095_236.txt  00124_11.txt   00169_134.txt  00270_11.txt   00304_107.txt  00329_90.txt\n",
            "00097_65.txt   00124_12.txt   00169_141.txt  00270_12.txt   00304_113.txt  00332_141.txt\n",
            "00097_68.txt   00124_6.txt    00169_142.txt  00270_13.txt   00304_119.txt  00332_147.txt\n",
            "00097_70.txt   00124_7.txt    00169_149.txt  00271_106.txt  00304_98.txt   00334_101.txt\n",
            "00097_72.txt   00124_8.txt    00172_102.txt  00271_111.txt  00305_105.txt  00334_108.txt\n",
            "00097_74.txt   00124_9.txt    00172_108.txt  00271_116.txt  00305_107.txt  00334_114.txt\n",
            "00097_76.txt   00130_100.txt  00172_114.txt  00271_117.txt  00305_113.txt  00334_120.txt\n",
            "00097_77.txt   00130_107.txt  00172_92.txt   00271_122.txt  00305_116.txt  00334_121.txt\n",
            "00097_79.txt   00130_112.txt  00172_96.txt   00271_124.txt  00305_97.txt   00334_91.txt\n",
            "00097_80.txt   00130_114.txt  00176_104.txt  00271_128.txt  00305_98.txt   00334_95.txt\n",
            "00097_81.txt   00130_119.txt  00176_89.txt   00271_130.txt  00306_102.txt  00338_15.txt\n",
            "00097_83.txt   00130_78.txt   00176_92.txt   00271_134.txt  00306_109.txt  00340_119.txt\n",
            "00099_129.txt  00130_81.txt   00176_98.txt   00271_145.txt  00306_115.txt  00340_121.txt\n",
            "00099_130.txt  00130_88.txt   00183_80.txt   00273_103.txt  00306_92.txt   00340_126.txt\n",
            "00099_137.txt  00130_94.txt   00183_86.txt   00273_109.txt  00306_96.txt   00340_128.txt\n",
            "00099_139.txt  00148_19.txt   00240_134.txt  00273_86.txt   00311_105.txt  00340_132.txt\n",
            "00099_145.txt  00148_20.txt   00240_138.txt  00273_90.txt   00311_111.txt  00340_138.txt\n",
            "00099_149.txt  00148_22.txt   00240_144.txt  00273_96.txt   00311_117.txt  00350_126.txt\n",
            "00099_154.txt  00148_24.txt   00240_151.txt  00281_104.txt  00311_118.txt  00350_128.txt\n",
            "00104_14.txt   00150_10.txt   00240_157.txt  00281_110.txt  00311_123.txt  00350_132.txt\n",
            "00104_15.txt   00150_11.txt   00245_101.txt  00281_116.txt  00313_118.txt  00350_135.txt\n",
            "00104_16.txt   00150_12.txt   00246_103.txt  00281_117.txt  00313_119.txt  00350_139.txt\n",
            "00104_17.txt   00150_8.txt    00246_96.txt   00281_122.txt  00313_124.txt  00350_145.txt\n",
            "00104_18.txt   00150_9.txt    00250_104.txt  00281_124.txt  00313_126.txt  00350_151.txt\n",
            "00104_19.txt   00151_10.txt   00250_110.txt  00281_128.txt  00313_130.txt  00350_157.txt\n",
            "00111_110.txt  00151_12.txt   00250_115.txt  00281_98.txt   00313_133.txt  00352_103.txt\n",
            "00111_98.txt   00151_13.txt   00250_120.txt  00282_83.txt   00317_20.txt   00352_93.txt\n",
            "00112_10.txt   00151_14.txt   00250_121.txt  00282_87.txt   00317_21.txt   00352_97.txt\n",
            "00112_11.txt   00151_15.txt   00253_79.txt   00282_93.txt   00317_22.txt   00359_103.txt\n",
            "00112_12.txt   00151_17.txt   00253_85.txt   00282_99.txt   00317_23.txt   00359_109.txt\n",
            "00116_11.txt   00158_102.txt  00253_92.txt   00284_149.txt  00317_24.txt   00359_115.txt\n",
            "00116_12.txt   00158_108.txt  00254_79.txt   00285_87.txt   00317_25.txt   00359_116.txt\n",
            "00116_13.txt   00158_114.txt  00254_83.txt   00285_93.txt   00317_26.txt   00359_121.txt\n",
            "00116_14.txt   00158_115.txt  00254_89.txt   00291_22.txt   00317_27.txt   00359_123.txt\n",
            "00116_15.txt   00158_86.txt   00260_113.txt  00291_23.txt   00317_28.txt   00359_97.txt\n",
            "00116_16.txt   00158_90.txt   00260_115.txt  00291_24.txt   00322_108.txt  00360_102.txt\n",
            "00116_8.txt    00158_96.txt   00260_119.txt  00294_20.txt   00322_114.txt  00360_87.txt\n",
            "00116_9.txt    00165_110.txt  00260_121.txt  00294_21.txt   00322_115.txt  00360_90.txt\n",
            "00122_10.txt   00165_111.txt  00260_125.txt  00294_22.txt   00322_121.txt  00360_96.txt\n",
            "00122_11.txt   00165_116.txt  00260_130.txt  00294_23.txt   00322_122.txt\n",
            "00122_8.txt    00165_118.txt  00260_136.txt  00296_118.txt  00322_127.txt\n",
            "00122_9.txt    00165_123.txt  00260_142.txt  00296_124.txt  00322_130.txt\n",
            "00123_10.txt   00165_125.txt  00263_109.txt  00296_125.txt  00322_134.txt\n",
            "00018_101.txt  00022_75.txt   00045_118.txt  00061_178.txt  00081_89.txt   00088_129.txt\n",
            "00018_109.txt  00022_77.txt   00045_127.txt  00064_158.txt  00081_98.txt   00088_136.txt\n",
            "00018_111.txt  00022_79.txt   00045_136.txt  00064_170.txt  00084_123.txt  00088_137.txt\n",
            "00018_117.txt  00022_81.txt   00053_207.txt  00064_209.txt  00084_130.txt  00088_143.txt\n",
            "00018_121.txt  00022_83.txt   00053_221.txt  00064_220.txt  00084_137.txt  00088_145.txt\n",
            "00018_126.txt  00022_85.txt   00053_235.txt  00072_66.txt   00084_138.txt  00088_150.txt\n",
            "00018_134.txt  00022_86.txt   00053_237.txt  00072_73.txt   00084_145.txt  00088_153.txt\n",
            "00019_66.txt   00022_87.txt   00053_249.txt  00072_76.txt   00084_152.txt  00090_157.txt\n",
            "00019_75.txt   00022_88.txt   00053_253.txt  00072_77.txt   00084_156.txt  00090_169.txt\n",
            "00019_84.txt   00044_101.txt  00053_263.txt  00072_80.txt   00084_160.txt  00090_181.txt\n",
            "00019_85.txt   00044_109.txt  00053_269.txt  00072_81.txt   00088_108.txt\n",
            "00021_53.txt   00044_111.txt  00053_277.txt  00081_107.txt  00088_115.txt\n",
            "00022_73.txt   00044_118.txt  00061_172.txt  00081_80.txt   00088_122.txt\n"
          ]
        }
      ]
    },
    {
      "cell_type": "code",
      "source": [
        "# Путь к данным в Google Drive\n",
        "data_path = '/content/drive/MyDrive/image'\n",
        "\n",
        "# Создание конфигурационного файла данных\n",
        "data_config = f\"\"\"\n",
        "train: /content/drive/MyDrive/axial_t1wce_2_class/images/train\n",
        "val: /content/drive/MyDrive/axial_t1wce_2_class/images/test\n",
        "\n",
        "nc: 2  # количество классов\n",
        "names: ['tumor', 'background']  # имена классов\n",
        "\"\"\"\n",
        "\n",
        "with open('/content/drive/MyDrive/axial_t1wce_2_class/axial_t1wce_2_class.yaml', 'w') as f:\n",
        "    f.write(data_config)\n"
      ],
      "metadata": {
        "id": "UIrnyVlbYzKN"
      },
      "execution_count": 16,
      "outputs": []
    },
    {
      "cell_type": "code",
      "source": [
        "# Обучение модели YOLOv5\n",
        "!python train.py --img 640 --batch 16 --epochs 50 --data /content/drive/MyDrive/axial_t1wce_2_class/axial_t1wce_2_class.yaml --weights yolov5s.pt --cache\n"
      ],
      "metadata": {
        "colab": {
          "base_uri": "https://localhost:8080/"
        },
        "id": "7zrcNNqKdUJa",
        "outputId": "7db6c07c-f3ae-4127-f94a-39cd3991358c"
      },
      "execution_count": null,
      "outputs": [
        {
          "output_type": "stream",
          "name": "stdout",
          "text": [
            "2024-06-28 06:14:57.754311: E external/local_xla/xla/stream_executor/cuda/cuda_dnn.cc:9261] Unable to register cuDNN factory: Attempting to register factory for plugin cuDNN when one has already been registered\n",
            "2024-06-28 06:14:57.754372: E external/local_xla/xla/stream_executor/cuda/cuda_fft.cc:607] Unable to register cuFFT factory: Attempting to register factory for plugin cuFFT when one has already been registered\n",
            "2024-06-28 06:14:57.756070: E external/local_xla/xla/stream_executor/cuda/cuda_blas.cc:1515] Unable to register cuBLAS factory: Attempting to register factory for plugin cuBLAS when one has already been registered\n",
            "\u001b[34m\u001b[1mtrain: \u001b[0mweights=yolov5s.pt, cfg=, data=/content/drive/MyDrive/axial_t1wce_2_class/axial_t1wce_2_class.yaml, hyp=data/hyps/hyp.scratch-low.yaml, epochs=50, batch_size=16, imgsz=640, rect=False, resume=False, nosave=False, noval=False, noautoanchor=False, noplots=False, evolve=None, evolve_population=data/hyps, resume_evolve=None, bucket=, cache=ram, image_weights=False, device=, multi_scale=False, single_cls=False, optimizer=SGD, sync_bn=False, workers=8, project=runs/train, name=exp, exist_ok=False, quad=False, cos_lr=False, label_smoothing=0.0, patience=100, freeze=[0], save_period=-1, seed=0, local_rank=-1, entity=None, upload_dataset=False, bbox_interval=-1, artifact_alias=latest, ndjson_console=False, ndjson_file=False\n",
            "\u001b[34m\u001b[1mgithub: \u001b[0mup to date with https://github.com/ultralytics/yolov5 ✅\n",
            "YOLOv5 🚀 v7.0-331-gab364c98 Python-3.10.12 torch-2.3.0+cu121 CPU\n",
            "\n",
            "\u001b[34m\u001b[1mhyperparameters: \u001b[0mlr0=0.01, lrf=0.01, momentum=0.937, weight_decay=0.0005, warmup_epochs=3.0, warmup_momentum=0.8, warmup_bias_lr=0.1, box=0.05, cls=0.5, cls_pw=1.0, obj=1.0, obj_pw=1.0, iou_t=0.2, anchor_t=4.0, fl_gamma=0.0, hsv_h=0.015, hsv_s=0.7, hsv_v=0.4, degrees=0.0, translate=0.1, scale=0.5, shear=0.0, perspective=0.0, flipud=0.0, fliplr=0.5, mosaic=1.0, mixup=0.0, copy_paste=0.0\n",
            "\u001b[34m\u001b[1mComet: \u001b[0mrun 'pip install comet_ml' to automatically track and visualize YOLOv5 🚀 runs in Comet\n",
            "\u001b[34m\u001b[1mTensorBoard: \u001b[0mStart with 'tensorboard --logdir runs/train', view at http://localhost:6006/\n",
            "Overriding model.yaml nc=80 with nc=2\n",
            "\n",
            "                 from  n    params  module                                  arguments                     \n",
            "  0                -1  1      3520  models.common.Conv                      [3, 32, 6, 2, 2]              \n",
            "  1                -1  1     18560  models.common.Conv                      [32, 64, 3, 2]                \n",
            "  2                -1  1     18816  models.common.C3                        [64, 64, 1]                   \n",
            "  3                -1  1     73984  models.common.Conv                      [64, 128, 3, 2]               \n",
            "  4                -1  2    115712  models.common.C3                        [128, 128, 2]                 \n",
            "  5                -1  1    295424  models.common.Conv                      [128, 256, 3, 2]              \n",
            "  6                -1  3    625152  models.common.C3                        [256, 256, 3]                 \n",
            "  7                -1  1   1180672  models.common.Conv                      [256, 512, 3, 2]              \n",
            "  8                -1  1   1182720  models.common.C3                        [512, 512, 1]                 \n",
            "  9                -1  1    656896  models.common.SPPF                      [512, 512, 5]                 \n",
            " 10                -1  1    131584  models.common.Conv                      [512, 256, 1, 1]              \n",
            " 11                -1  1         0  torch.nn.modules.upsampling.Upsample    [None, 2, 'nearest']          \n",
            " 12           [-1, 6]  1         0  models.common.Concat                    [1]                           \n",
            " 13                -1  1    361984  models.common.C3                        [512, 256, 1, False]          \n",
            " 14                -1  1     33024  models.common.Conv                      [256, 128, 1, 1]              \n",
            " 15                -1  1         0  torch.nn.modules.upsampling.Upsample    [None, 2, 'nearest']          \n",
            " 16           [-1, 4]  1         0  models.common.Concat                    [1]                           \n",
            " 17                -1  1     90880  models.common.C3                        [256, 128, 1, False]          \n",
            " 18                -1  1    147712  models.common.Conv                      [128, 128, 3, 2]              \n",
            " 19          [-1, 14]  1         0  models.common.Concat                    [1]                           \n",
            " 20                -1  1    296448  models.common.C3                        [256, 256, 1, False]          \n",
            " 21                -1  1    590336  models.common.Conv                      [256, 256, 3, 2]              \n",
            " 22          [-1, 10]  1         0  models.common.Concat                    [1]                           \n",
            " 23                -1  1   1182720  models.common.C3                        [512, 512, 1, False]          \n",
            " 24      [17, 20, 23]  1     18879  models.yolo.Detect                      [2, [[10, 13, 16, 30, 33, 23], [30, 61, 62, 45, 59, 119], [116, 90, 156, 198, 373, 326]], [128, 256, 512]]\n",
            "Model summary: 214 layers, 7025023 parameters, 7025023 gradients, 16.0 GFLOPs\n",
            "\n",
            "Transferred 343/349 items from yolov5s.pt\n",
            "\u001b[34m\u001b[1moptimizer:\u001b[0m SGD(lr=0.01) with parameter groups 57 weight(decay=0.0), 60 weight(decay=0.0005), 60 bias\n",
            "\u001b[34m\u001b[1malbumentations: \u001b[0mBlur(p=0.01, blur_limit=(3, 7)), MedianBlur(p=0.01, blur_limit=(3, 7)), ToGray(p=0.01), CLAHE(p=0.01, clip_limit=(1, 4.0), tile_grid_size=(8, 8))\n",
            "\u001b[34m\u001b[1mtrain: \u001b[0mScanning /content/drive/MyDrive/axial_t1wce_2_class/labels/train.cache... 296 images, 14 backgrounds, 0 corrupt: 100% 310/310 [00:00<?, ?it/s]\n",
            "\u001b[34m\u001b[1mtrain: \u001b[0mCaching images (0.3GB ram): 100% 310/310 [00:02<00:00, 125.77it/s]\n",
            "/usr/lib/python3.10/multiprocessing/popen_fork.py:66: RuntimeWarning: os.fork() was called. os.fork() is incompatible with multithreaded code, and JAX is multithreaded, so this will likely lead to a deadlock.\n",
            "  self.pid = os.fork()\n",
            "\u001b[34m\u001b[1mval: \u001b[0mScanning /content/drive/MyDrive/axial_t1wce_2_class/labels/test.cache... 75 images, 0 backgrounds, 0 corrupt: 100% 75/75 [00:00<?, ?it/s]\n",
            "\u001b[34m\u001b[1mval: \u001b[0mCaching images (0.1GB ram): 100% 75/75 [00:01<00:00, 57.71it/s]\n",
            "\n",
            "\u001b[34m\u001b[1mAutoAnchor: \u001b[0m5.99 anchors/target, 1.000 Best Possible Recall (BPR). Current anchors are a good fit to dataset ✅\n",
            "Plotting labels to runs/train/exp3/labels.jpg... \n",
            "Image sizes 640 train, 640 val\n",
            "Using 2 dataloader workers\n",
            "Logging results to \u001b[1mruns/train/exp3\u001b[0m\n",
            "Starting training for 50 epochs...\n",
            "\n",
            "      Epoch    GPU_mem   box_loss   obj_loss   cls_loss  Instances       Size\n",
            "       0/49         0G     0.1256    0.02854    0.03183         24        640:  35% 7/20 [03:45<06:18, 29.15s/it]"
          ]
        }
      ]
    },
    {
      "cell_type": "code",
      "source": [
        "# Оценка производительности модели\n",
        "!python val.py --data /content/drive/MyDrive/axial_t1wce_2_class/axial_t1wce_2_class.yaml --weights /content/yolov5/runs/train/exp/weights/best.pt --img 640\n"
      ],
      "metadata": {
        "colab": {
          "base_uri": "https://localhost:8080/"
        },
        "id": "fOo7g5oStvOM",
        "outputId": "69d9b02e-35a2-406d-d4b1-c77e2b15074f"
      },
      "execution_count": 15,
      "outputs": [
        {
          "output_type": "stream",
          "name": "stdout",
          "text": [
            "\u001b[34m\u001b[1mval: \u001b[0mdata=/content/drive/MyDrive/axial_t1wce_2_class/data.yaml, weights=['/content/yolov5/runs/train/brain_tumor_detection/weights/best.pt'], batch_size=32, imgsz=640, conf_thres=0.001, iou_thres=0.6, max_det=300, task=val, device=, workers=8, single_cls=False, augment=False, verbose=False, save_txt=False, save_hybrid=False, save_conf=False, save_json=False, project=runs/val, name=exp, exist_ok=False, half=False, dnn=False\n",
            "YOLOv5 🚀 v7.0-331-gab364c98 Python-3.10.12 torch-2.3.0+cu121 CUDA:0 (Tesla T4, 15102MiB)\n",
            "\n",
            "Fusing layers... \n",
            "YOLOv5s summary: 157 layers, 7015519 parameters, 0 gradients, 15.8 GFLOPs\n",
            "\u001b[34m\u001b[1mval: \u001b[0mScanning /content/drive/MyDrive/axial_t1wce_2_class/labels/test.cache... 75 images, 0 backgrounds, 0 corrupt: 100% 75/75 [00:00<?, ?it/s]\n",
            "                 Class     Images  Instances          P          R      mAP50   mAP50-95: 100% 3/3 [00:03<00:00,  1.08s/it]\n",
            "                   all         75         81    0.00751      0.951      0.341      0.102\n",
            "                 tumor         75         81    0.00751      0.951      0.341      0.102\n",
            "Speed: 0.5ms pre-process, 14.4ms inference, 10.7ms NMS per image at shape (32, 3, 640, 640)\n",
            "Results saved to \u001b[1mruns/val/exp\u001b[0m\n"
          ]
        }
      ]
    },
    {
      "cell_type": "code",
      "source": [
        "# Копирование файлов best.pt и last.pt в Google Drive\n",
        "import os\n",
        "import shutil\n",
        "\n",
        "# Укажите путь к директории с результатами\n",
        "result_dir = '/content/yolov5/runs/train/brain_tumor_detection/weights'\n",
        "\n",
        "# Путь для сохранения в Google Drive\n",
        "drive_result_dir = '/content/drive/MyDrive/yolov5_models/brain_tumor_detection/'\n",
        "\n",
        "# Создание директории в Google Drive, если она не существует\n",
        "os.makedirs(drive_result_dir, exist_ok=True)\n",
        "\n",
        "# Копирование файлов best.pt и last.pt в Google Drive\n",
        "shutil.copy(f'{result_dir}/best.pt', drive_result_dir)\n",
        "shutil.copy(f'{result_dir}/last.pt', drive_result_dir)\n",
        "\n",
        "print(f\"Model weights saved to {drive_result_dir}\")\n"
      ],
      "metadata": {
        "colab": {
          "base_uri": "https://localhost:8080/"
        },
        "id": "5oFVh1dG1e7O",
        "outputId": "1e620b59-ff2d-4633-f056-b4a14c8dfcdf"
      },
      "execution_count": 19,
      "outputs": [
        {
          "output_type": "stream",
          "name": "stdout",
          "text": [
            "Model weights saved to /content/drive/MyDrive/yolov5_models/brain_tumor_detection/\n"
          ]
        }
      ]
    },
    {
      "cell_type": "code",
      "source": [
        "import torch\n",
        "\n",
        "# Загрузка модели YOLOv5 (например, v5s)\n",
        "model = torch.hub.load('ultralytics/yolov5', 'yolov5s')\n"
      ],
      "metadata": {
        "colab": {
          "base_uri": "https://localhost:8080/"
        },
        "id": "lU2bmkwj1bHY",
        "outputId": "b6245524-f4a6-44be-f256-a0094e6f0864"
      },
      "execution_count": 1,
      "outputs": [
        {
          "output_type": "stream",
          "name": "stderr",
          "text": [
            "/usr/local/lib/python3.10/dist-packages/torch/hub.py:293: UserWarning: You are about to download and run code from an untrusted repository. In a future release, this won't be allowed. To add the repository to your trusted list, change the command to {calling_fn}(..., trust_repo=False) and a command prompt will appear asking for an explicit confirmation of trust, or load(..., trust_repo=True), which will assume that the prompt is to be answered with 'yes'. You can also use load(..., trust_repo='check') which will only prompt for confirmation if the repo is not already trusted. This will eventually be the default behaviour\n",
            "  warnings.warn(\n",
            "Downloading: \"https://github.com/ultralytics/yolov5/zipball/master\" to /root/.cache/torch/hub/master.zip\n"
          ]
        },
        {
          "output_type": "stream",
          "name": "stdout",
          "text": [
            "\u001b[31m\u001b[1mrequirements:\u001b[0m Ultralytics requirements ['gitpython>=3.1.30', 'pillow>=10.3.0', 'requests>=2.32.0'] not found, attempting AutoUpdate...\n",
            "Collecting gitpython>=3.1.30\n",
            "  Downloading GitPython-3.1.43-py3-none-any.whl (207 kB)\n",
            "     ━━━━━━━━━━━━━━━━━━━━━━━━━━━━━━━━━━━━━━━━ 207.3/207.3 kB 5.1 MB/s eta 0:00:00\n",
            "Collecting pillow>=10.3.0\n",
            "  Downloading pillow-10.3.0-cp310-cp310-manylinux_2_28_x86_64.whl (4.5 MB)\n",
            "     ━━━━━━━━━━━━━━━━━━━━━━━━━━━━━━━━━━━━━━━━ 4.5/4.5 MB 79.6 MB/s eta 0:00:00\n",
            "Collecting requests>=2.32.0\n",
            "  Downloading requests-2.32.3-py3-none-any.whl (64 kB)\n",
            "     ━━━━━━━━━━━━━━━━━━━━━━━━━━━━━━━━━━━━━━━━ 64.9/64.9 kB 157.3 MB/s eta 0:00:00\n",
            "Collecting gitdb<5,>=4.0.1 (from gitpython>=3.1.30)\n",
            "  Downloading gitdb-4.0.11-py3-none-any.whl (62 kB)\n",
            "     ━━━━━━━━━━━━━━━━━━━━━━━━━━━━━━━━━━━━━━━━ 62.7/62.7 kB 153.4 MB/s eta 0:00:00\n",
            "Requirement already satisfied: charset-normalizer<4,>=2 in /usr/local/lib/python3.10/dist-packages (from requests>=2.32.0) (3.3.2)\n",
            "Requirement already satisfied: idna<4,>=2.5 in /usr/local/lib/python3.10/dist-packages (from requests>=2.32.0) (3.7)\n",
            "Requirement already satisfied: urllib3<3,>=1.21.1 in /usr/local/lib/python3.10/dist-packages (from requests>=2.32.0) (2.0.7)\n",
            "Requirement already satisfied: certifi>=2017.4.17 in /usr/local/lib/python3.10/dist-packages (from requests>=2.32.0) (2024.6.2)\n",
            "Collecting smmap<6,>=3.0.1 (from gitdb<5,>=4.0.1->gitpython>=3.1.30)\n",
            "  Downloading smmap-5.0.1-py3-none-any.whl (24 kB)\n",
            "Installing collected packages: smmap, requests, pillow, gitdb, gitpython\n",
            "  Attempting uninstall: requests\n",
            "    Found existing installation: requests 2.31.0\n",
            "    Uninstalling requests-2.31.0:\n",
            "      Successfully uninstalled requests-2.31.0\n",
            "  Attempting uninstall: pillow\n",
            "    Found existing installation: Pillow 9.4.0\n",
            "    Uninstalling Pillow-9.4.0:\n",
            "      Successfully uninstalled Pillow-9.4.0\n",
            "Successfully installed gitdb-4.0.11 gitpython-3.1.43 pillow-10.3.0 requests-2.32.3 smmap-5.0.1\n",
            "\n",
            "\u001b[31m\u001b[1mrequirements:\u001b[0m AutoUpdate success ✅ 11.0s, installed 3 packages: ['gitpython>=3.1.30', 'pillow>=10.3.0', 'requests>=2.32.0']\n",
            "\u001b[31m\u001b[1mrequirements:\u001b[0m ⚠️ \u001b[1mRestart runtime or rerun command for updates to take effect\u001b[0m\n",
            "\n"
          ]
        },
        {
          "output_type": "stream",
          "name": "stderr",
          "text": [
            "YOLOv5 🚀 2024-6-27 Python-3.10.12 torch-2.3.0+cu121 CPU\n",
            "\n",
            "Downloading https://github.com/ultralytics/yolov5/releases/download/v7.0/yolov5s.pt to yolov5s.pt...\n",
            "100%|██████████| 14.1M/14.1M [00:00<00:00, 38.6MB/s]\n",
            "\n",
            "Fusing layers... \n",
            "YOLOv5s summary: 213 layers, 7225885 parameters, 0 gradients, 16.4 GFLOPs\n",
            "Adding AutoShape... \n"
          ]
        }
      ]
    },
    {
      "cell_type": "code",
      "source": [
        "!pip install torch torchvision\n",
        "!pip install git+https://github.com/ultralytics/yolov5.git\n",
        "!pip install pillow\n"
      ],
      "metadata": {
        "colab": {
          "base_uri": "https://localhost:8080/"
        },
        "id": "oLvFy_9a2vTb",
        "outputId": "76b6124c-1ba7-457d-c0c8-158e555ed916"
      },
      "execution_count": 6,
      "outputs": [
        {
          "output_type": "stream",
          "name": "stdout",
          "text": [
            "Requirement already satisfied: torch in /usr/local/lib/python3.10/dist-packages (2.3.0+cu121)\n",
            "Requirement already satisfied: torchvision in /usr/local/lib/python3.10/dist-packages (0.18.0+cu121)\n",
            "Requirement already satisfied: filelock in /usr/local/lib/python3.10/dist-packages (from torch) (3.15.3)\n",
            "Requirement already satisfied: typing-extensions>=4.8.0 in /usr/local/lib/python3.10/dist-packages (from torch) (4.12.2)\n",
            "Requirement already satisfied: sympy in /usr/local/lib/python3.10/dist-packages (from torch) (1.12.1)\n",
            "Requirement already satisfied: networkx in /usr/local/lib/python3.10/dist-packages (from torch) (3.3)\n",
            "Requirement already satisfied: jinja2 in /usr/local/lib/python3.10/dist-packages (from torch) (3.1.4)\n",
            "Requirement already satisfied: fsspec in /usr/local/lib/python3.10/dist-packages (from torch) (2023.6.0)\n",
            "Requirement already satisfied: nvidia-cuda-nvrtc-cu12==12.1.105 in /usr/local/lib/python3.10/dist-packages (from torch) (12.1.105)\n",
            "Requirement already satisfied: nvidia-cuda-runtime-cu12==12.1.105 in /usr/local/lib/python3.10/dist-packages (from torch) (12.1.105)\n",
            "Requirement already satisfied: nvidia-cuda-cupti-cu12==12.1.105 in /usr/local/lib/python3.10/dist-packages (from torch) (12.1.105)\n",
            "Requirement already satisfied: nvidia-cudnn-cu12==8.9.2.26 in /usr/local/lib/python3.10/dist-packages (from torch) (8.9.2.26)\n",
            "Requirement already satisfied: nvidia-cublas-cu12==12.1.3.1 in /usr/local/lib/python3.10/dist-packages (from torch) (12.1.3.1)\n",
            "Requirement already satisfied: nvidia-cufft-cu12==11.0.2.54 in /usr/local/lib/python3.10/dist-packages (from torch) (11.0.2.54)\n",
            "Requirement already satisfied: nvidia-curand-cu12==10.3.2.106 in /usr/local/lib/python3.10/dist-packages (from torch) (10.3.2.106)\n",
            "Requirement already satisfied: nvidia-cusolver-cu12==11.4.5.107 in /usr/local/lib/python3.10/dist-packages (from torch) (11.4.5.107)\n",
            "Requirement already satisfied: nvidia-cusparse-cu12==12.1.0.106 in /usr/local/lib/python3.10/dist-packages (from torch) (12.1.0.106)\n",
            "Requirement already satisfied: nvidia-nccl-cu12==2.20.5 in /usr/local/lib/python3.10/dist-packages (from torch) (2.20.5)\n",
            "Requirement already satisfied: nvidia-nvtx-cu12==12.1.105 in /usr/local/lib/python3.10/dist-packages (from torch) (12.1.105)\n",
            "Requirement already satisfied: triton==2.3.0 in /usr/local/lib/python3.10/dist-packages (from torch) (2.3.0)\n",
            "Requirement already satisfied: nvidia-nvjitlink-cu12 in /usr/local/lib/python3.10/dist-packages (from nvidia-cusolver-cu12==11.4.5.107->torch) (12.5.40)\n",
            "Requirement already satisfied: numpy in /usr/local/lib/python3.10/dist-packages (from torchvision) (1.25.2)\n",
            "Requirement already satisfied: pillow!=8.3.*,>=5.3.0 in /usr/local/lib/python3.10/dist-packages (from torchvision) (10.3.0)\n",
            "Requirement already satisfied: MarkupSafe>=2.0 in /usr/local/lib/python3.10/dist-packages (from jinja2->torch) (2.1.5)\n",
            "Requirement already satisfied: mpmath<1.4.0,>=1.1.0 in /usr/local/lib/python3.10/dist-packages (from sympy->torch) (1.3.0)\n",
            "Collecting git+https://github.com/ultralytics/yolov5.git\n",
            "  Cloning https://github.com/ultralytics/yolov5.git to /tmp/pip-req-build-mn8jdasf\n",
            "  Running command git clone --filter=blob:none --quiet https://github.com/ultralytics/yolov5.git /tmp/pip-req-build-mn8jdasf\n",
            "  Resolved https://github.com/ultralytics/yolov5.git to commit ab364c984b9fdace147fcde339ae4afccc31b642\n",
            "  Installing build dependencies ... \u001b[?25l\u001b[?25hdone\n",
            "  \u001b[1;31merror\u001b[0m: \u001b[1msubprocess-exited-with-error\u001b[0m\n",
            "  \n",
            "  \u001b[31m×\u001b[0m \u001b[32mGetting requirements to build wheel\u001b[0m did not run successfully.\n",
            "  \u001b[31m│\u001b[0m exit code: \u001b[1;36m1\u001b[0m\n",
            "  \u001b[31m╰─>\u001b[0m See above for output.\n",
            "  \n",
            "  \u001b[1;35mnote\u001b[0m: This error originates from a subprocess, and is likely not a problem with pip.\n",
            "  Getting requirements to build wheel ... \u001b[?25l\u001b[?25herror\n",
            "\u001b[1;31merror\u001b[0m: \u001b[1msubprocess-exited-with-error\u001b[0m\n",
            "\n",
            "\u001b[31m×\u001b[0m \u001b[32mGetting requirements to build wheel\u001b[0m did not run successfully.\n",
            "\u001b[31m│\u001b[0m exit code: \u001b[1;36m1\u001b[0m\n",
            "\u001b[31m╰─>\u001b[0m See above for output.\n",
            "\n",
            "\u001b[1;35mnote\u001b[0m: This error originates from a subprocess, and is likely not a problem with pip.\n",
            "Requirement already satisfied: pillow in /usr/local/lib/python3.10/dist-packages (10.3.0)\n"
          ]
        }
      ]
    },
    {
      "cell_type": "code",
      "source": [
        "import torch\n",
        "from google.colab import files\n",
        "import cv2\n",
        "import numpy as np\n",
        "import matplotlib.pyplot as plt\n",
        "\n",
        "# Загрузка предобученной модели YOLOv5\n",
        "# Замените 'your_custom_model_path' на путь к вашей модели, если вы загрузили ее на Google Drive или напрямую в Colab\n",
        "model = torch.hub.load('ultralytics/yolov5', 'custom', path='your_custom_model_path')\n"
      ],
      "metadata": {
        "colab": {
          "base_uri": "https://localhost:8080/"
        },
        "id": "QPAoTFZd1ugz",
        "outputId": "d9545689-67ba-406a-e202-35f93bd1ba2a"
      },
      "execution_count": 7,
      "outputs": [
        {
          "output_type": "stream",
          "name": "stderr",
          "text": [
            "Using cache found in /root/.cache/torch/hub/ultralytics_yolov5_master\n",
            "YOLOv5 🚀 2024-6-27 Python-3.10.12 torch-2.3.0+cu121 CPU\n",
            "\n",
            "Fusing layers... \n",
            "YOLOv5s summary: 213 layers, 7225885 parameters, 0 gradients, 16.4 GFLOPs\n",
            "Adding AutoShape... \n"
          ]
        }
      ]
    },
    {
      "cell_type": "code",
      "source": [
        "# Загрузка изображения\n",
        "uploaded = files.upload()\n",
        "\n",
        "# Получение пути к загруженному изображению\n",
        "img_path = list(uploaded.keys())[0]\n",
        "\n",
        "# Проверка формата изображения с помощью OpenCV\n",
        "try:\n",
        "    img = cv2.imread(img_path)\n",
        "    if img is None:\n",
        "        raise ValueError(\"Файл не является изображением или поврежден\")\n",
        "    # Преобразование изображения из BGR в RGB формат\n",
        "    img = cv2.cvtColor(img, cv2.COLOR_BGR2RGB)\n",
        "    plt.imshow(img)\n",
        "    plt.axis('off')  # Скрыть оси\n",
        "    plt.show()\n",
        "except Exception as e:\n",
        "    print(f\"Ошибка: {e}\")\n"
      ],
      "metadata": {
        "colab": {
          "base_uri": "https://localhost:8080/",
          "height": 74
        },
        "id": "fFkuIRxI1rc6",
        "outputId": "12715d8b-9776-4c51-82d9-956dd865e590"
      },
      "execution_count": 10,
      "outputs": [
        {
          "output_type": "display_data",
          "data": {
            "text/plain": [
              "<IPython.core.display.HTML object>"
            ],
            "text/html": [
              "\n",
              "     <input type=\"file\" id=\"files-c94a763f-877c-4469-8566-5d461edbed9b\" name=\"files[]\" multiple disabled\n",
              "        style=\"border:none\" />\n",
              "     <output id=\"result-c94a763f-877c-4469-8566-5d461edbed9b\">\n",
              "      Upload widget is only available when the cell has been executed in the\n",
              "      current browser session. Please rerun this cell to enable.\n",
              "      </output>\n",
              "      <script>// Copyright 2017 Google LLC\n",
              "//\n",
              "// Licensed under the Apache License, Version 2.0 (the \"License\");\n",
              "// you may not use this file except in compliance with the License.\n",
              "// You may obtain a copy of the License at\n",
              "//\n",
              "//      http://www.apache.org/licenses/LICENSE-2.0\n",
              "//\n",
              "// Unless required by applicable law or agreed to in writing, software\n",
              "// distributed under the License is distributed on an \"AS IS\" BASIS,\n",
              "// WITHOUT WARRANTIES OR CONDITIONS OF ANY KIND, either express or implied.\n",
              "// See the License for the specific language governing permissions and\n",
              "// limitations under the License.\n",
              "\n",
              "/**\n",
              " * @fileoverview Helpers for google.colab Python module.\n",
              " */\n",
              "(function(scope) {\n",
              "function span(text, styleAttributes = {}) {\n",
              "  const element = document.createElement('span');\n",
              "  element.textContent = text;\n",
              "  for (const key of Object.keys(styleAttributes)) {\n",
              "    element.style[key] = styleAttributes[key];\n",
              "  }\n",
              "  return element;\n",
              "}\n",
              "\n",
              "// Max number of bytes which will be uploaded at a time.\n",
              "const MAX_PAYLOAD_SIZE = 100 * 1024;\n",
              "\n",
              "function _uploadFiles(inputId, outputId) {\n",
              "  const steps = uploadFilesStep(inputId, outputId);\n",
              "  const outputElement = document.getElementById(outputId);\n",
              "  // Cache steps on the outputElement to make it available for the next call\n",
              "  // to uploadFilesContinue from Python.\n",
              "  outputElement.steps = steps;\n",
              "\n",
              "  return _uploadFilesContinue(outputId);\n",
              "}\n",
              "\n",
              "// This is roughly an async generator (not supported in the browser yet),\n",
              "// where there are multiple asynchronous steps and the Python side is going\n",
              "// to poll for completion of each step.\n",
              "// This uses a Promise to block the python side on completion of each step,\n",
              "// then passes the result of the previous step as the input to the next step.\n",
              "function _uploadFilesContinue(outputId) {\n",
              "  const outputElement = document.getElementById(outputId);\n",
              "  const steps = outputElement.steps;\n",
              "\n",
              "  const next = steps.next(outputElement.lastPromiseValue);\n",
              "  return Promise.resolve(next.value.promise).then((value) => {\n",
              "    // Cache the last promise value to make it available to the next\n",
              "    // step of the generator.\n",
              "    outputElement.lastPromiseValue = value;\n",
              "    return next.value.response;\n",
              "  });\n",
              "}\n",
              "\n",
              "/**\n",
              " * Generator function which is called between each async step of the upload\n",
              " * process.\n",
              " * @param {string} inputId Element ID of the input file picker element.\n",
              " * @param {string} outputId Element ID of the output display.\n",
              " * @return {!Iterable<!Object>} Iterable of next steps.\n",
              " */\n",
              "function* uploadFilesStep(inputId, outputId) {\n",
              "  const inputElement = document.getElementById(inputId);\n",
              "  inputElement.disabled = false;\n",
              "\n",
              "  const outputElement = document.getElementById(outputId);\n",
              "  outputElement.innerHTML = '';\n",
              "\n",
              "  const pickedPromise = new Promise((resolve) => {\n",
              "    inputElement.addEventListener('change', (e) => {\n",
              "      resolve(e.target.files);\n",
              "    });\n",
              "  });\n",
              "\n",
              "  const cancel = document.createElement('button');\n",
              "  inputElement.parentElement.appendChild(cancel);\n",
              "  cancel.textContent = 'Cancel upload';\n",
              "  const cancelPromise = new Promise((resolve) => {\n",
              "    cancel.onclick = () => {\n",
              "      resolve(null);\n",
              "    };\n",
              "  });\n",
              "\n",
              "  // Wait for the user to pick the files.\n",
              "  const files = yield {\n",
              "    promise: Promise.race([pickedPromise, cancelPromise]),\n",
              "    response: {\n",
              "      action: 'starting',\n",
              "    }\n",
              "  };\n",
              "\n",
              "  cancel.remove();\n",
              "\n",
              "  // Disable the input element since further picks are not allowed.\n",
              "  inputElement.disabled = true;\n",
              "\n",
              "  if (!files) {\n",
              "    return {\n",
              "      response: {\n",
              "        action: 'complete',\n",
              "      }\n",
              "    };\n",
              "  }\n",
              "\n",
              "  for (const file of files) {\n",
              "    const li = document.createElement('li');\n",
              "    li.append(span(file.name, {fontWeight: 'bold'}));\n",
              "    li.append(span(\n",
              "        `(${file.type || 'n/a'}) - ${file.size} bytes, ` +\n",
              "        `last modified: ${\n",
              "            file.lastModifiedDate ? file.lastModifiedDate.toLocaleDateString() :\n",
              "                                    'n/a'} - `));\n",
              "    const percent = span('0% done');\n",
              "    li.appendChild(percent);\n",
              "\n",
              "    outputElement.appendChild(li);\n",
              "\n",
              "    const fileDataPromise = new Promise((resolve) => {\n",
              "      const reader = new FileReader();\n",
              "      reader.onload = (e) => {\n",
              "        resolve(e.target.result);\n",
              "      };\n",
              "      reader.readAsArrayBuffer(file);\n",
              "    });\n",
              "    // Wait for the data to be ready.\n",
              "    let fileData = yield {\n",
              "      promise: fileDataPromise,\n",
              "      response: {\n",
              "        action: 'continue',\n",
              "      }\n",
              "    };\n",
              "\n",
              "    // Use a chunked sending to avoid message size limits. See b/62115660.\n",
              "    let position = 0;\n",
              "    do {\n",
              "      const length = Math.min(fileData.byteLength - position, MAX_PAYLOAD_SIZE);\n",
              "      const chunk = new Uint8Array(fileData, position, length);\n",
              "      position += length;\n",
              "\n",
              "      const base64 = btoa(String.fromCharCode.apply(null, chunk));\n",
              "      yield {\n",
              "        response: {\n",
              "          action: 'append',\n",
              "          file: file.name,\n",
              "          data: base64,\n",
              "        },\n",
              "      };\n",
              "\n",
              "      let percentDone = fileData.byteLength === 0 ?\n",
              "          100 :\n",
              "          Math.round((position / fileData.byteLength) * 100);\n",
              "      percent.textContent = `${percentDone}% done`;\n",
              "\n",
              "    } while (position < fileData.byteLength);\n",
              "  }\n",
              "\n",
              "  // All done.\n",
              "  yield {\n",
              "    response: {\n",
              "      action: 'complete',\n",
              "    }\n",
              "  };\n",
              "}\n",
              "\n",
              "scope.google = scope.google || {};\n",
              "scope.google.colab = scope.google.colab || {};\n",
              "scope.google.colab._files = {\n",
              "  _uploadFiles,\n",
              "  _uploadFilesContinue,\n",
              "};\n",
              "})(self);\n",
              "</script> "
            ]
          },
          "metadata": {}
        },
        {
          "output_type": "stream",
          "name": "stdout",
          "text": [
            "Saving 00097_70.jpg to 00097_70.jpg\n"
          ]
        }
      ]
    },
    {
      "cell_type": "code",
      "source": [
        "# Если изображение успешно загружено и преобразовано\n",
        "if 'img' in locals():\n",
        "    # Выполнение детекции объектов\n",
        "    results = model(img)\n",
        "\n",
        "    # Получение таблицы с результатами\n",
        "    df = results.pandas().xyxy[0]  # или results.xyxy[0] для получения тензора\n",
        "\n",
        "    # Проверка, есть ли детекции\n",
        "    if not df.empty:\n",
        "        print(\"Объекты найдены:\")\n",
        "        print(df)\n",
        "    else:\n",
        "        print(\"Объекты не найдены\")\n",
        "\n",
        "    # Визуализация детекций\n",
        "    results.show()\n"
      ],
      "metadata": {
        "colab": {
          "base_uri": "https://localhost:8080/",
          "height": 327
        },
        "id": "OruOxLWD3VOB",
        "outputId": "07cb81b9-debe-4473-ffd8-68940e81c492"
      },
      "execution_count": 11,
      "outputs": [
        {
          "output_type": "stream",
          "name": "stdout",
          "text": [
            "Объекты найдены:\n",
            "        xmin       ymin        xmax        ymax  confidence  class    name\n",
            "0  67.542923  49.127209  202.033356  227.881546    0.324242      0  person\n"
          ]
        },
        {
          "output_type": "display_data",
          "data": {
            "text/plain": [
              "<PIL.Image.Image image mode=RGB size=256x256>"
            ],
            "image/png": "[encoded data removed]"
          },
          "metadata": {}
        }
      ]
    }
  ]
}